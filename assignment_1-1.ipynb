{
 "cells": [
  {
   "cell_type": "markdown",
   "id": "87b91d83",
   "metadata": {},
   "source": [
    "# Assignment 1\n",
    "### Understanding Uncertainty\n",
    "### Due 9/5"
   ]
  },
  {
   "cell_type": "markdown",
   "id": "dc9dc1be",
   "metadata": {},
   "source": [
    "Name: Aiden Rocha\n",
    "Computing Id: atx2xs"
   ]
  },
  {
   "cell_type": "code",
   "execution_count": 2,
   "id": "7e919767",
   "metadata": {},
   "outputs": [],
   "source": [
    "import pandas as pd\n",
    "import numpy as np\n",
    "import matplotlib.pyplot as plt\n",
    "import seaborn as sns"
   ]
  },
  {
   "cell_type": "markdown",
   "id": "380e339f",
   "metadata": {},
   "source": [
    "1. Create a new public repo on Github under your account. Include a readme file.\n",
    "2. Clone it to your machine. Put this file into that repo.\n",
    "3. Use the following function to download the example data for the course:"
   ]
  },
  {
   "cell_type": "code",
   "execution_count": 1,
   "id": "2d62b4f6",
   "metadata": {},
   "outputs": [
    {
     "name": "stdout",
     "output_type": "stream",
     "text": [
      "Downloading course data\n",
      "Download complete\n",
      "Extracting data files...\n",
      "Data extracted\n"
     ]
    }
   ],
   "source": [
    "def download_data(force=False):\n",
    "    \"\"\"Download and extract course data from Zenodo.\"\"\"\n",
    "    import urllib.request, zipfile, os\n",
    "    \n",
    "    zip_path = 'data.zip'\n",
    "    data_dir = 'data'\n",
    "    \n",
    "    if not os.path.exists(zip_path) or force:\n",
    "        print(\"Downloading course data\")\n",
    "        urllib.request.urlretrieve(\n",
    "            'https://zenodo.org/records/16954427/files/data.zip?download=1',\n",
    "            zip_path\n",
    "        )\n",
    "        print(\"Download complete\")\n",
    "    else:\n",
    "        print(\"Download file already exists\")\n",
    "        \n",
    "    if not os.path.exists(data_dir) or force:\n",
    "        print(\"Extracting data files...\")\n",
    "        with zipfile.ZipFile(zip_path, 'r') as zip_ref:\n",
    "            zip_ref.extractall(data_dir)\n",
    "        print(\"Data extracted\")\n",
    "    else:\n",
    "        print(\"Data directory already exists\")\n",
    "\n",
    "download_data()"
   ]
  },
  {
   "cell_type": "markdown",
   "id": "01db0045",
   "metadata": {},
   "source": [
    "4. Open one of the datasets using Pandas:\n",
    "    1. `ames_prices.csv`: Housing characteristics and prices\n",
    "    2. `college_completion.csv`: Public, nonprofit, and for-profit educational institutions, graduation rates, and financial aid\n",
    "    3. `ForeignGifts_edu.csv`: Monetary and in-kind transfers from foreign entities to U.S. educational institutions\n",
    "    4. `iowa.csv`: Liquor sales in Iowa, at the transaction level\n",
    "    5. `metabric.csv`: Cancer patient and outcome data\n",
    "    6. `mn_police_use_of_force.csv`: Records of physical altercations between Minnessota police and private citizens\n",
    "    7. `nhanes_data_17_18.csv`: National Health and Nutrition Examination Survey\n",
    "    8. `tuna.csv`: Yellowfin Tuna Genome (I don't recommend this one; it's just a sequence of G, C, A, T )\n",
    "    9. `va_procurement.csv`: Public spending by the state of Virginia"
   ]
  },
  {
   "cell_type": "code",
   "execution_count": 4,
   "id": "be2dfcd9",
   "metadata": {},
   "outputs": [
    {
     "name": "stdout",
     "output_type": "stream",
     "text": [
      "<class 'pandas.core.frame.DataFrame'>\n",
      "RangeIndex: 3798 entries, 0 to 3797\n",
      "Data columns (total 63 columns):\n",
      " #   Column                                Non-Null Count  Dtype  \n",
      "---  ------                                --------------  -----  \n",
      " 0   index                                 3798 non-null   int64  \n",
      " 1   unitid                                3798 non-null   int64  \n",
      " 2   chronname                             3798 non-null   object \n",
      " 3   city                                  3798 non-null   object \n",
      " 4   state                                 3798 non-null   object \n",
      " 5   level                                 3798 non-null   object \n",
      " 6   control                               3798 non-null   object \n",
      " 7   basic                                 3798 non-null   object \n",
      " 8   hbcu                                  94 non-null     object \n",
      " 9   flagship                              50 non-null     object \n",
      " 10  long_x                                3798 non-null   float64\n",
      " 11  lat_y                                 3798 non-null   float64\n",
      " 12  site                                  3779 non-null   object \n",
      " 13  student_count                         3798 non-null   int64  \n",
      " 14  awards_per_value                      3798 non-null   float64\n",
      " 15  awards_per_state_value                3798 non-null   float64\n",
      " 16  awards_per_natl_value                 3798 non-null   float64\n",
      " 17  exp_award_value                       3798 non-null   int64  \n",
      " 18  exp_award_state_value                 3798 non-null   int64  \n",
      " 19  exp_award_natl_value                  3798 non-null   int64  \n",
      " 20  exp_award_percentile                  3798 non-null   int64  \n",
      " 21  ft_pct                                3794 non-null   float64\n",
      " 22  fte_value                             3798 non-null   int64  \n",
      " 23  fte_percentile                        3798 non-null   int64  \n",
      " 24  med_sat_value                         1337 non-null   float64\n",
      " 25  med_sat_percentile                    1337 non-null   float64\n",
      " 26  aid_value                             3797 non-null   float64\n",
      " 27  aid_percentile                        3797 non-null   float64\n",
      " 28  endow_value                           2323 non-null   float64\n",
      " 29  endow_percentile                      2323 non-null   float64\n",
      " 30  grad_100_value                        3467 non-null   float64\n",
      " 31  grad_100_percentile                   3467 non-null   float64\n",
      " 32  grad_150_value                        3467 non-null   float64\n",
      " 33  grad_150_percentile                   3467 non-null   float64\n",
      " 34  pell_value                            3797 non-null   float64\n",
      " 35  pell_percentile                       3797 non-null   float64\n",
      " 36  retain_value                          3535 non-null   float64\n",
      " 37  retain_percentile                     3535 non-null   float64\n",
      " 38  ft_fac_value                          3785 non-null   float64\n",
      " 39  ft_fac_percentile                     3785 non-null   float64\n",
      " 40  vsa_year                              279 non-null    float64\n",
      " 41  vsa_grad_after4_first                 279 non-null    float64\n",
      " 42  vsa_grad_elsewhere_after4_first       279 non-null    float64\n",
      " 43  vsa_enroll_after4_first               279 non-null    float64\n",
      " 44  vsa_enroll_elsewhere_after4_first     279 non-null    float64\n",
      " 45  vsa_grad_after6_first                 279 non-null    float64\n",
      " 46  vsa_grad_elsewhere_after6_first       279 non-null    float64\n",
      " 47  vsa_enroll_after6_first               279 non-null    float64\n",
      " 48  vsa_enroll_elsewhere_after6_first     279 non-null    float64\n",
      " 49  vsa_grad_after4_transfer              270 non-null    float64\n",
      " 50  vsa_grad_elsewhere_after4_transfer    270 non-null    float64\n",
      " 51  vsa_enroll_after4_transfer            270 non-null    float64\n",
      " 52  vsa_enroll_elsewhere_after4_transfer  270 non-null    float64\n",
      " 53  vsa_grad_after6_transfer              270 non-null    float64\n",
      " 54  vsa_grad_elsewhere_after6_transfer    270 non-null    float64\n",
      " 55  vsa_enroll_after6_transfer            270 non-null    float64\n",
      " 56  vsa_enroll_elsewhere_after6_transfer  270 non-null    float64\n",
      " 57  similar                               3579 non-null   object \n",
      " 58  state_sector_ct                       3798 non-null   int64  \n",
      " 59  carnegie_ct                           3798 non-null   int64  \n",
      " 60  counted_pct                           3372 non-null   object \n",
      " 61  nicknames                             310 non-null    object \n",
      " 62  cohort_size                           3467 non-null   float64\n",
      "dtypes: float64(40), int64(11), object(12)\n",
      "memory usage: 1.8+ MB\n"
     ]
    }
   ],
   "source": [
    "college_completion = pd.read_csv('data/college_completion.csv')\n",
    "college_completion.info()"
   ]
  },
  {
   "cell_type": "code",
   "execution_count": null,
   "id": "7a9736fc",
   "metadata": {},
   "outputs": [],
   "source": [
    "college_completion['']"
   ]
  },
  {
   "cell_type": "markdown",
   "id": "fa5cade1",
   "metadata": {},
   "source": [
    "5. Pick two or three variables and briefly analyze them\n",
    "    - Is it a categorical or numeric variable?\n",
    "    - How many missing values are there? (`df['var'].isna()` and `np.sum()`)\n",
    "    - If categorical, tabulate the values (`df['var'].value_counts()`) and if numeric, get a summary (`df['var'].describe()`)"
   ]
  },
  {
   "cell_type": "code",
   "execution_count": 12,
   "id": "e4682856",
   "metadata": {},
   "outputs": [
    {
     "name": "stdout",
     "output_type": "stream",
     "text": [
      "\n",
      "Data type: object \n",
      "missing values: 0 \n",
      "value counts: chronname\n",
      "Metro Business College             3\n",
      "ITT Technical Institute-Madison    3\n",
      "Anamarc College                    2\n",
      "Alabama A&M University             1\n",
      "Sisseton-Wahpeton College          1\n",
      "                                  ..\n",
      "Gogebic Community College          1\n",
      "Grace Bible College                1\n",
      "Cornerstone University             1\n",
      "Grand Rapids Community College     1\n",
      "Brown College-Brooklyn Center      1\n",
      "Name: count, Length: 3793, dtype: int64\n",
      "\n",
      "Data type: object \n",
      "missing values: 0 \n",
      "value counts: level\n",
      "4-year    2339\n",
      "2-year    1459\n",
      "Name: count, dtype: int64\n",
      "\n",
      "Data type: int64 \n",
      "missing values: 0 \n",
      "value counts: student_count\n",
      "122      7\n",
      "302      6\n",
      "438      6\n",
      "470      6\n",
      "194      5\n",
      "        ..\n",
      "1213     1\n",
      "5845     1\n",
      "15998    1\n",
      "66       1\n",
      "488      1\n",
      "Name: count, Length: 2829, dtype: int64\n"
     ]
    }
   ],
   "source": [
    "chronname = college_completion['chronname']\n",
    "c_dtype = chronname.dtype\n",
    "c_m_values = np.sum(chronname.isna())\n",
    "c_value_counts = chronname.value_counts()\n",
    "print(f\"\\nData type: {c_dtype} \\nmissing values: {c_m_values} \\nvalue counts: {c_value_counts}\")\n",
    "\n",
    "level = college_completion[\"level\"]\n",
    "l_dtype = level.dtype\n",
    "l_m_values = np.sum(level.isna())\n",
    "l_value_counts = level.value_counts()\n",
    "print(f\"\\nData type: {l_dtype} \\nmissing values: {l_m_values} \\nvalue counts: {l_value_counts}\")\n",
    "\n",
    "student_count = college_completion[\"student_count\"]\n",
    "s_dtype = student_count.dtype\n",
    "s_m_values = np.sum(student_count.isna())\n",
    "s_describe = student_count.describe()\n",
    "print(f\"\\nData type: {s_dtype} \\nmissing values: {s_m_values} \\nvalue counts: {s_value_counts}\")"
   ]
  },
  {
   "cell_type": "markdown",
   "id": "dbf2318a",
   "metadata": {},
   "source": [
    "6. What are some questions and prediction tools you could create using these data? Who would the stakeholder be for that prediction tool? What practical or ethical questions would it create? What other data would you want, that are not available in your data?"
   ]
  },
  {
   "cell_type": "markdown",
   "id": "325f4a8e",
   "metadata": {},
   "source": [
    "You might ask questions of level and awards as in which awards go to which schools of which level. You could also ask questions of student body size and level. These questions would best benefit the schools as they try and align their messaging with reality. I would say ethically, that award decisions based on the quality of school might mean underprivileged students dont get the awards then need, as well as some schools who really need support not getting it. The data here is pretty well done, and I havent had a chance to thoroughly explore all aspects so if I could choose maybe alumni data if it is not already there."
   ]
  },
  {
   "cell_type": "markdown",
   "id": "a4a7ddc7",
   "metadata": {},
   "source": [
    "7. Commit your work to the repo (`git commit -am 'Finish assignment'` at the command line, or use the Git panel in VS Code). Push your work back to Github and submit the link on Canvas in the assignment tab."
   ]
  }
 ],
 "metadata": {
  "kernelspec": {
   "display_name": "base",
   "language": "python",
   "name": "python3"
  },
  "language_info": {
   "codemirror_mode": {
    "name": "ipython",
    "version": 3
   },
   "file_extension": ".py",
   "mimetype": "text/x-python",
   "name": "python",
   "nbconvert_exporter": "python",
   "pygments_lexer": "ipython3",
   "version": "3.13.5"
  }
 },
 "nbformat": 4,
 "nbformat_minor": 5
}
